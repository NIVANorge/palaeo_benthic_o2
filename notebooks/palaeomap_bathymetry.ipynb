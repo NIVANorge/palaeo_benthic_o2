{
 "cells": [
  {
   "cell_type": "code",
   "execution_count": 1,
   "metadata": {},
   "outputs": [],
   "source": [
    "%matplotlib inline\n",
    "\n",
    "import matplotlib.pyplot as plt\n",
    "import nivapy3 as nivapy\n",
    "import cartopy.crs as ccrs\n",
    "import xarray as xr\n",
    "import pandas as pd\n",
    "import numpy as np\n",
    "import os\n",
    "import cmocean\n",
    "import warnings\n",
    "from IPython.display import Image\n",
    "\n",
    "warnings.simplefilter(\"ignore\")\n",
    "plt.style.use(\"ggplot\")"
   ]
  },
  {
   "cell_type": "markdown",
   "metadata": {},
   "source": [
    "# Continental shelf area through time"
   ]
  },
  {
   "cell_type": "markdown",
   "metadata": {},
   "source": [
    "## 1. Explore PaleoDEM dataset\n",
    "\n",
    "Data from [here](https://www.earthbyte.org/paleodem-resource-scotese-and-wright-2018/)."
   ]
  },
  {
   "cell_type": "code",
   "execution_count": 2,
   "metadata": {},
   "outputs": [],
   "source": [
    "def get_time(ds):\n",
    "    \"\"\" Get time in Ma from dataset file path\n",
    "    \"\"\"\n",
    "    fpath = ds.encoding['source']\n",
    "    time = -float(os.path.split(fpath)[-1].split('_')[-1][:-5])\n",
    "    \n",
    "    return ds.assign(time=time)"
   ]
  },
  {
   "cell_type": "code",
   "execution_count": 3,
   "metadata": {},
   "outputs": [
    {
     "data": {
      "text/html": [
       "<pre>&lt;xarray.Dataset&gt;\n",
       "Dimensions:  (lat: 181, lon: 361, time: 109)\n",
       "Coordinates:\n",
       "  * lon      (lon) float64 -180.0 -179.0 -178.0 -177.0 ... 178.0 179.0 180.0\n",
       "  * lat      (lat) float64 -90.0 -89.0 -88.0 -87.0 -86.0 ... 87.0 88.0 89.0 90.0\n",
       "  * time     (time) float64 -540.0 -535.0 -530.0 -525.0 ... -10.0 -5.0 -0.0\n",
       "Data variables:\n",
       "    z        (time, lat, lon) float32 dask.array&lt;chunksize=(1, 181, 361), meta=np.ndarray&gt;\n",
       "Attributes:\n",
       "    Conventions:  COARDS, CF-1.5\n",
       "    title:        \n",
       "    history:      grdsample /Users/nickywright/PhD/scotese/paleogeographyconv...\n",
       "    description:  \n",
       "    GMT_version:  5.4.1 (r18208) [64-bit]</pre>"
      ],
      "text/plain": [
       "<xarray.Dataset>\n",
       "Dimensions:  (lat: 181, lon: 361, time: 109)\n",
       "Coordinates:\n",
       "  * lon      (lon) float64 -180.0 -179.0 -178.0 -177.0 ... 178.0 179.0 180.0\n",
       "  * lat      (lat) float64 -90.0 -89.0 -88.0 -87.0 -86.0 ... 87.0 88.0 89.0 90.0\n",
       "  * time     (time) float64 -540.0 -535.0 -530.0 -525.0 ... -10.0 -5.0 -0.0\n",
       "Data variables:\n",
       "    z        (time, lat, lon) float32 dask.array<chunksize=(1, 181, 361), meta=np.ndarray>\n",
       "Attributes:\n",
       "    Conventions:  COARDS, CF-1.5\n",
       "    title:        \n",
       "    history:      grdsample /Users/nickywright/PhD/scotese/paleogeographyconv...\n",
       "    description:  \n",
       "    GMT_version:  5.4.1 (r18208) [64-bit]"
      ]
     },
     "execution_count": 3,
     "metadata": {},
     "output_type": "execute_result"
    }
   ],
   "source": [
    "# Open all datsets\n",
    "ds = xr.open_mfdataset(r'../paleodem_netcdf/*.nc',\n",
    "                       concat_dim='time',\n",
    "                       preprocess=get_time,\n",
    "                      )\n",
    "\n",
    "ds = ds.sortby('time')\n",
    "\n",
    "ds"
   ]
  },
  {
   "cell_type": "code",
   "execution_count": null,
   "metadata": {},
   "outputs": [],
   "source": [
    "# Grid plots through time\n",
    "for idx, time_slice in enumerate(np.array_split(ds['time'], 6)):\n",
    "    ds2 = ds.sel(time=time_slice)\n",
    "    \n",
    "    ds2['z'].plot.pcolormesh(x='lon', \n",
    "                             y='lat', \n",
    "                             col='time', \n",
    "                             col_wrap=4, \n",
    "                             cmap=cmocean.cm.topo,\n",
    "                             vmin=-4000,\n",
    "                            # levels=[-8000, -200, 0, 8000],\n",
    "                             transform=ccrs.PlateCarree(),\n",
    "                             subplot_kws={'projection': ccrs.Robinson()},\n",
    "                             cbar_kwargs={'orientation':'horizontal',\n",
    "                                          'pad':0.05, \n",
    "                                          'aspect':30, \n",
    "                                          'shrink':0.6,\n",
    "                                         },                                        \n",
    "                             figsize=(15, 15),\n",
    "                            )\n",
    "\n",
    "    plt.savefig(f'../png/paleo_bathymetry_{idx}.png')\n",
    "    plt.close()"
   ]
  },
  {
   "cell_type": "code",
   "execution_count": null,
   "metadata": {},
   "outputs": [],
   "source": [
    "Image(f'./png/palaeobathym_{idx}.png')"
   ]
  },
  {
   "cell_type": "markdown",
   "metadata": {},
   "source": [
    "## 2. Calculate areas"
   ]
  },
  {
   "cell_type": "code",
   "execution_count": null,
   "metadata": {},
   "outputs": [],
   "source": [
    "def wgs84_pixel_areas(pixel_size, center_lat):\n",
    "    \"\"\" Calculates pixel areas for a WGS84 array (in m2).\n",
    "\n",
    "    Adapted from: https://gis.stackexchange.com/a/288034/2131\n",
    "\n",
    "    Args:\n",
    "        pixel_size: Float. Length of side of pixel in degrees.\n",
    "        center_lat: Array. Array of latitudes for pixel centres. \n",
    "                    Note: this value +/- half the `pixel-size` must \n",
    "                    not exceed 90/-90 degrees, or an invalid area \n",
    "                    will be calculated.\n",
    "\n",
    "    Returns:\n",
    "        Array. Areas of pixels of side length 'pixel_size' centered \n",
    "        at 'center_lat' in m2.\n",
    "\n",
    "    \"\"\"\n",
    "    import numpy as np\n",
    "    \n",
    "    # WGS85 ellipsoid\n",
    "    a = 6378137       # meters\n",
    "    b = 6356752.3142  # meters\n",
    "    e = np.sqrt(1 - (b/a)**2)\n",
    "    \n",
    "    area_list = []\n",
    "    \n",
    "    for f in [center_lat+pixel_size/2, center_lat-pixel_size/2]:\n",
    "        zm = 1 - e*np.sin(np.radians(f))\n",
    "        zp = 1 + e*np.sin(np.radians(f))\n",
    "        \n",
    "        area_list.append(\n",
    "            np.pi * b**2 * (\n",
    "                np.log(zp/zm) / (2*e) +\n",
    "                np.sin(np.radians(f)) / (zp*zm)))\n",
    "        \n",
    "    return pixel_size / 360. * (area_list[0] - area_list[1])"
   ]
  },
  {
   "cell_type": "code",
   "execution_count": null,
   "metadata": {},
   "outputs": [],
   "source": [
    "# Calcuate grid of pixel areas for 1 deg datasets\n",
    "lats = np.arange(-89.5, 90, 1)\n",
    "lons = np.arange(-179.5, 180, 1)\n",
    "x, y = np.meshgrid(lons, lats)\n",
    "\n",
    "area_km2 = wgs84_pixel_areas(1, y) / 1E6\n",
    "\n",
    "fig = plt.figure(figsize=(10,10))\n",
    "plt.imshow(area_km2, \n",
    "           origin='lower', \n",
    "           cmap='coolwarm',\n",
    "          )\n",
    "plt.colorbar(shrink=0.3)"
   ]
  },
  {
   "cell_type": "code",
   "execution_count": null,
   "metadata": {},
   "outputs": [],
   "source": [
    "shelf_min = -200\n",
    "shelf_max = 0\n",
    "\n",
    "area_list = []\n",
    "\n",
    "for time_pt in ds['time']:\n",
    "    data = ds['z'].sel(time=time_pt).values.copy()\n",
    "    data = np.where((shelf_min < data) & (data <= shelf_max), data, np.nan)\n",
    "    \n",
    "    # Data appears to have one extra row and column. Strip off\n",
    "    data = data[:-1, :-1]\n",
    "    \n",
    "    # Convert to bool grid\n",
    "    is_shelf = np.isfinite(data)\n",
    "    \n",
    "    # Get areas for shelf cells only\n",
    "    shelf_area = (area_km2 * is_shelf).sum()\n",
    "    \n",
    "    area_list.append(shelf_area)\n",
    "    \n",
    "# Build dataframe\n",
    "df = pd.DataFrame({'time':ds['time'].values,\n",
    "                   'shelf_area_km2':area_list})\n",
    "df.set_index('time', inplace=True)\n",
    "df['shelf_area_1E6km2'] = df['shelf_area_km2'] / 1E6\n",
    "del df['shelf_area_km2']\n",
    "\n",
    "df.head()    "
   ]
  },
  {
   "cell_type": "code",
   "execution_count": null,
   "metadata": {},
   "outputs": [],
   "source": [
    "df.plot(title='Shallow shelf area (millions of km2)',\n",
    "        figsize=(15,8),\n",
    "        legend=False,\n",
    "       )\n",
    "\n",
    "plt.savefig('../png/shelf_area_through_time.png')"
   ]
  }
 ],
 "metadata": {
  "kernelspec": {
   "display_name": "Python 3",
   "language": "python",
   "name": "python3"
  },
  "language_info": {
   "codemirror_mode": {
    "name": "ipython",
    "version": 3
   },
   "file_extension": ".py",
   "mimetype": "text/x-python",
   "name": "python",
   "nbconvert_exporter": "python",
   "pygments_lexer": "ipython3",
   "version": "3.7.4"
  }
 },
 "nbformat": 4,
 "nbformat_minor": 4
}
